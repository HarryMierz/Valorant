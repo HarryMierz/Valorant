{
 "cells": [
  {
   "cell_type": "code",
   "execution_count": 183,
   "metadata": {},
   "outputs": [],
   "source": [
    "from pyspark.sql import SparkSession\n",
    "from pyspark.sql.types import StructType, StructField, StringType, IntegerType, DoubleType\n",
    "import json\n",
    "import pandas as pd"
   ]
  },
  {
   "cell_type": "code",
   "execution_count": 184,
   "metadata": {},
   "outputs": [],
   "source": [
    "spark = spark = SparkSession.builder \\\n",
    "    .appName(\"pyspark_test\") \\\n",
    "    .getOrCreate()"
   ]
  },
  {
   "cell_type": "code",
   "execution_count": 185,
   "metadata": {},
   "outputs": [],
   "source": [
    "file_path = '../data/Team_Liquid_vs_Sentinels.json'\n",
    "with open(file_path, 'r') as f:\n",
    "    data = json.load(f)"
   ]
  },
  {
   "cell_type": "markdown",
   "metadata": {},
   "source": [
    "### get match event data"
   ]
  },
  {
   "cell_type": "code",
   "execution_count": 186,
   "metadata": {},
   "outputs": [
    {
     "name": "stdout",
     "output_type": "stream",
     "text": [
      "Team_Liquid_vs_Sentinels\n",
      "+--------------------+----------+-----------+-------------+\n",
      "|               Event|      Date|      Stage|        Round|\n",
      "+--------------------+----------+-----------+-------------+\n",
      "|Champions Tour 20...|2025-02-23|Swiss Stage|Round 2 (0-1)|\n",
      "+--------------------+----------+-----------+-------------+\n",
      "\n"
     ]
    }
   ],
   "source": [
    "# Function that gets event and date stats for a match\n",
    "def get_match_event_stats():\n",
    "    match_name = list(data.keys())[0]\n",
    "    print(match_name)\n",
    "\n",
    "    team1, team2 = match_name.split('_vs_')\n",
    "    team1_name = team1.replace('_', ' ')\n",
    "    team2_name = team2.replace('_', ' ')\n",
    "\n",
    "\n",
    "    event_stats = data[match_name][0]\n",
    "    event_stats\n",
    "\n",
    "    event_stats_df_pd = pd.DataFrame(data[list(data.keys())[0]][0], index=[0])\n",
    "\n",
    "    return spark.createDataFrame(event_stats_df_pd), match_name, team1_name, team2_name\n",
    "    \n",
    "event_stats_df, match_name, team1_name, team2_name = get_match_event_stats()\n",
    "event_stats_df.show()\n",
    "\n"
   ]
  },
  {
   "cell_type": "code",
   "execution_count": 187,
   "metadata": {},
   "outputs": [],
   "source": [
    "map_list = list(data[match_name][1].keys())"
   ]
  },
  {
   "cell_type": "markdown",
   "metadata": {},
   "source": [
    "### get team map data"
   ]
  },
  {
   "cell_type": "code",
   "execution_count": 188,
   "metadata": {},
   "outputs": [
    {
     "name": "stdout",
     "output_type": "stream",
     "text": [
      "+-----+-----------+-----------+-------------------+-----------+-------------------+-----------------+--------------+-------------+--------------+-----------------+--------------+-------------+--------------+\n",
      "|  Map|     Winner|TeamOneName|TeamOneAbbreviation|TeamTwoName|TeamTwoAbbreviation|TeamOneFinalScore|TeamOneCTScore|TeamOneTScore|TeamOneOTScore|TeamTwoFinalScore|TeamTwoCTScore|TeamTwoTScore|TeamTwoOTScore|\n",
      "+-----+-----------+-----------+-------------------+-----------+-------------------+-----------------+--------------+-------------+--------------+-----------------+--------------+-------------+--------------+\n",
      "|Lotus|  Sentinels|Team Liquid|                 TL|  Sentinels|                SEN|                7|             2|            5|             0|               13|             7|            6|             7|\n",
      "|Abyss|Team Liquid|Team Liquid|                 TL|  Sentinels|                SEN|               16|             7|            5|             4|               14|             7|            5|             7|\n",
      "| Bind|Team Liquid|Team Liquid|                 TL|  Sentinels|                SEN|               13|            11|            2|             0|                1|             0|            1|             0|\n",
      "+-----+-----------+-----------+-------------------+-----------+-------------------+-----------------+--------------+-------------+--------------+-----------------+--------------+-------------+--------------+\n",
      "\n"
     ]
    }
   ],
   "source": [
    "# Function that gets team stats for each map in the match\n",
    "def get_team_map_data(match_name, map_list):\n",
    "\n",
    "    map_scored_df_pd = pd.DataFrame(columns=['Map', 'Winner', 'TeamOneName', 'TeamOneAbbreviation', 'TeamTwoName', 'TeamTwoAbbreviation' ,'TeamOneFinalScore', 'TeamOneCTScore', 'TeamOneTScore', 'TeamOneOTScore', 'TeamTwoFinalScore', 'TeamTwoCTScore', 'TeamTwoTScore', 'TeamTwoOTScore'])\n",
    "\n",
    "    for i in map_list:\n",
    "        map_name = i\n",
    "\n",
    "        team1_stats = data[match_name][1][i]['Team Stats: '][team1_name]\n",
    "        team2_stats = data[match_name][1][i]['Team Stats: '][team2_name]\n",
    "\n",
    "        first_player = list(data[match_name][1][i]['Player Stats'].keys())[0]\n",
    "        last_player = list(data[match_name][1][i]['Player Stats'].keys())[-1]\n",
    "\n",
    "        team1_abbr = data[match_name][1][i]['Player Stats'][first_player][\"Team\"]\n",
    "    \n",
    "        team2_abbr = data[match_name][1][i]['Player Stats'][last_player][\"Team\"]\n",
    "\n",
    "        team1_score = int(team1_stats['final'])\n",
    "        team2_score = int(team2_stats['final'])\n",
    "    \n",
    "\n",
    "        winner = team1_name if int(team1_score) > int(team2_score) else team2_name\n",
    "\n",
    "        temp_df1 = pd.DataFrame({'Map': map_name, 'Winner': winner, 'TeamOneName': team1_name,'TeamOneAbbreviation' : team1_abbr ,'TeamTwoName': team2_name, 'TeamTwoAbbreviation' : team2_abbr ,'TeamOneFinalScore': team1_stats['final'], 'TeamOneCTScore': team1_stats['CT'], 'TeamOneTScore' : team1_stats['T'], 'TeamOneOTScore' : team1_stats['OT'], 'TeamTwoFinalScore': team2_stats['final'], 'TeamTwoCTScore' : team2_stats['CT'], 'TeamTwoTScore' : team2_stats['T'], 'TeamTwoOTScore' : team2_stats['CT']}, index=[0])\n",
    "\n",
    "        map_scored_df_pd = pd.concat([map_scored_df_pd, temp_df1], ignore_index=True)\n",
    "\n",
    "\n",
    "    return spark.createDataFrame(map_scored_df_pd), map_scored_df_pd, team1_abbr, team2_abbr\n",
    "\n",
    "map_scored_df_spark, map_scored_df_pd, team1_abbr, team2_abbr = get_team_map_data(match_name, map_list)\n",
    "map_scored_df_spark.show()"
   ]
  },
  {
   "cell_type": "markdown",
   "metadata": {},
   "source": [
    "### get map player data"
   ]
  },
  {
   "cell_type": "code",
   "execution_count": 189,
   "metadata": {},
   "outputs": [
    {
     "name": "stdout",
     "output_type": "stream",
     "text": [
      "+-----+----------+------+----+-----------+-----+------+-------------+-------+--------+--------------+--------+---------+---------------+---------+----------+------------+------+-------+-----------+-----+------+--------------------+--------------+---------------+------------------+------------+-------------+-------------------+-------------+--------------+\n",
      "|  Map|PlayerName| Agent|Team|ACS_Overall|ACS_T|ACS_CT|Kills_Overall|Kills_T|Kills_CT|Deaths_Overall|Deaths_T|Deaths_CT|Assists_Overall|Assists_T|Assists_CT|KAST_Overall|KAST_T|KAST_CT|ADR_Overall|ADR_T|ADR_CT|HSPercentage_Overall|HSPercentage_T|HSPercentage_CT|FirstKills_Overall|FirstKills_T|FirstKills_CT|FirstDeaths_Overall|FirstDeaths_T|FirstDeaths_CT|\n",
      "+-----+----------+------+----+-----------+-----+------+-------------+-------+--------+--------------+--------+---------+---------------+---------+----------+------------+------+-------+-----------+-----+------+--------------------+--------------+---------------+------------------+------------+-------------+-------------------+-------------+--------------+\n",
      "|Lotus|      nAts|Cypher|  TL|        293|  254|   354|           22|     12|      10|             1|       8|        6|              2|        2|         0|         80%|   83%|    75%|        197|  162|   248|                 39%|           44%|            33%|                 1|           0|            1|                  1|            1|             0|\n",
      "|Lotus|     Keiko|  Omen|  TL|        192|  276|    68|           14|     12|       2|             1|       8|        6|              8|        6|         2|         65%|   75%|    50%|        141|  201|    51|                 59%|           58%|            67%|                 3|           3|            0|                  4|            2|             2|\n",
      "|Lotus|   paTiTek|Breach|  TL|        151|  157|   143|           11|      7|       4|             1|       8|        7|              6|        6|         0|         65%|   75%|    50%|         92|   95|    88|                 21%|           28%|            13%|                 0|           0|            0|                  3|            0|             3|\n",
      "|Lotus|     kamyk|  Tejo|  TL|        136|  112|   173|            9|      4|       5|             1|       8|        7|              4|        4|         0|         50%|   50%|    50%|         81|   77|    88|                 42%|           17%|            86%|                 2|           1|            1|                  1|            0|             1|\n",
      "|Lotus|      kamo|  Yoru|  TL|         97|  112|    76|            6|      4|       2|             1|      10|        7|              4|        4|         0|         45%|   50%|    38%|         69|   81|    49|                 17%|           13%|            33%|                 1|           1|            0|                  4|            4|             0|\n",
      "+-----+----------+------+----+-----------+-----+------+-------------+-------+--------+--------------+--------+---------+---------------+---------+----------+------------+------+-------+-----------+-----+------+--------------------+--------------+---------------+------------------+------------+-------------+-------------------+-------------+--------------+\n",
      "only showing top 5 rows\n",
      "\n"
     ]
    }
   ],
   "source": [
    "# Function that gets player stats for each map in the match\n",
    "def get_map_player_data(map_list):\n",
    "\n",
    "    map_player_stats_df_pd = pd.DataFrame(columns=['Map', 'PlayerName', 'Agent', 'Team', 'ACS_Overall','ACS_T', 'ACS_CT', 'Kills_Overall', 'Kills_T', 'Kills_CT',  'Deaths_Overall', 'Deaths_T', 'Deaths_CT', 'Assists_Overall', 'Assists_T', 'Assists_CT', 'KAST_Overall', 'KAST_T', 'KAST_CT', 'ADR_Overall', 'ADR_T', 'ADR_CT', 'HSPercentage_Overall', 'HSPercentage_T', 'HSPercentage_CT', 'FirstKills_Overall', 'FirstKills_T', 'FirstKills_CT', 'FirstDeaths_Overall', 'FirstDeaths_T', 'FirstDeaths_CT'])\n",
    "\n",
    "    for i in map_list:\n",
    "        map_name = i\n",
    "\n",
    "        map_player_stats = data[match_name][1][i]['Player Stats']\n",
    "    \n",
    "        for player in map_player_stats:\n",
    "            player_name = player\n",
    "            player_stats = map_player_stats[player]\n",
    "\n",
    "            temp_df3 = pd.DataFrame({'Map' : map_name,'PlayerName': player_name, 'Agent': player_stats['Agent'], 'Team' : player_stats['Team'], 'ACS_Overall': player_stats['ACS']['All'], 'ACS_T':player_stats['ACS']['T'], 'ACS_CT': player_stats['ACS']['CT'], 'Kills_Overall' : player_stats['Elims']['All'], 'Kills_T': player_stats['Elims']['T'], 'Kills_CT': player_stats['Elims']['CT'], 'Deaths_Overall' : player_stats['Deaths']['All'], 'Deaths_T': player_stats['Deaths']['T'], 'Deaths_CT': player_stats['Deaths']['CT'], 'Assists_Overall' : player_stats['Assists']['All'], 'Assists_T': player_stats['Assists']['T'], 'Assists_CT': player_stats['Assists']['CT'], 'KAST_Overall' :player_stats['KAST']['All'], 'KAST_T': player_stats['KAST']['T'], 'KAST_CT': player_stats['KAST']['CT'], 'ADR_Overall' : player_stats['ADR']['All'], 'ADR_T': player_stats['ADR']['T'], 'ADR_CT': player_stats['ADR']['CT'], 'HSPercentage_Overall' : player_stats['HS_percentage']['All'], 'HSPercentage_T': player_stats['HS_percentage']['T'], 'HSPercentage_CT': player_stats['HS_percentage']['CT'], 'FirstKills_Overall' : player_stats['First Kills']['All'], 'FirstKills_T': player_stats['First Kills']['T'], 'FirstKills_CT': player_stats['First Kills']['CT'], 'FirstDeaths_Overall' : player_stats['First Deaths']['All'], 'FirstDeaths_T': player_stats['First Deaths']['T'], 'FirstDeaths_CT': player_stats['First Deaths']['CT']}, index=[0])\n",
    "\n",
    "            map_player_stats_df_pd = pd.concat([map_player_stats_df_pd, temp_df3], ignore_index=True)\n",
    "\n",
    "    return spark.createDataFrame(map_player_stats_df_pd), map_player_stats_df_pd\n",
    "\n",
    "map_player_stats_df__spark, map_player_stats_df_pd = get_map_player_data(map_list)\n",
    "\n",
    "map_player_stats_df__spark.show(5)"
   ]
  },
  {
   "cell_type": "markdown",
   "metadata": {},
   "source": [
    "### get match aggregate data"
   ]
  },
  {
   "cell_type": "markdown",
   "metadata": {},
   "source": [
    "### team data"
   ]
  },
  {
   "cell_type": "code",
   "execution_count": 190,
   "metadata": {},
   "outputs": [
    {
     "name": "stdout",
     "output_type": "stream",
     "text": [
      "+-----------+-------------------+-----------+-------------------+-----------------+--------------+-------------+--------------+-----------------+--------------+-------------+--------------+\n",
      "|TeamOneName|TeamOneAbbreviation|TeamTwoName|TeamOneAbbreviation|TeamOneFinalScore|TeamOneCTScore|TeamOneTScore|TeamOneOTScore|TeamTwoFinalScore|TeamTwoCTScore|TeamTwoTScore|TeamTwoOTScore|\n",
      "+-----------+-------------------+-----------+-------------------+-----------------+--------------+-------------+--------------+-----------------+--------------+-------------+--------------+\n",
      "|Team Liquid|                 TL|  Sentinels|                SEN|               36|            20|           12|             4|               28|            14|           12|            14|\n",
      "+-----------+-------------------+-----------+-------------------+-----------------+--------------+-------------+--------------+-----------------+--------------+-------------+--------------+\n",
      "\n"
     ]
    }
   ],
   "source": [
    "# Function to get aggregate team data for the entire match over all maps\n",
    "def get_agg_team_data(match_name, map_list):\n",
    "    map_scored_df_spark, map_scored_df_pd, team1_abbr, team2_abbr = get_team_map_data(match_name, map_list)\n",
    "\n",
    "    map_scored_df_pd = map_scored_df_pd.astype({ 'TeamOneFinalScore' : int, 'TeamOneCTScore' : int, 'TeamOneTScore' : int, 'TeamOneOTScore' : int, 'TeamTwoFinalScore' : int, 'TeamTwoCTScore' : int, 'TeamTwoTScore' : int, 'TeamTwoOTScore' : int})\n",
    "\n",
    "    column_sums = map_scored_df_pd.sum(axis=0)\n",
    "\n",
    "    match_scored_df_pd_sums = column_sums.to_frame()\n",
    "    match_scored_df_pd_t = match_scored_df_pd_sums.transpose()\n",
    "    team_match_scored_df_pd = match_scored_df_pd_t[['TeamOneName','TeamOneAbbreviation','TeamTwoName', 'TeamTwoAbbreviation','TeamOneFinalScore', 'TeamOneCTScore', 'TeamOneTScore', 'TeamOneOTScore', 'TeamTwoFinalScore', 'TeamTwoCTScore', 'TeamTwoTScore', 'TeamTwoOTScore']]\n",
    "    team_match_scored_df_pd.at[0, 'TeamOneName'] = team1_name\n",
    "    team_match_scored_df_pd.at[0, 'TeamTwoName'] = team2_name\n",
    "    team_match_scored_df_pd.at[0, 'TeamOneAbbreviation'] = team1_abbr\n",
    "    team_match_scored_df_pd.at[0, 'TeamTwoAbbreviation'] = team2_abbr\n",
    "\n",
    "    team_match_scored_df_pd = team_match_scored_df_pd.astype({ 'TeamOneFinalScore' : int, 'TeamOneCTScore' : int, 'TeamOneTScore' : int, 'TeamOneOTScore' : int, 'TeamTwoFinalScore' : int, 'TeamTwoCTScore' : int, 'TeamTwoTScore' : int, 'TeamTwoOTScore' : int})\n",
    "\n",
    "\n",
    "    schema = StructType([\n",
    "        StructField('TeamOneName', StringType(), True),\n",
    "        StructField('TeamOneAbbreviation', StringType(), True),\n",
    "        StructField('TeamTwoName', StringType(), True),\n",
    "        StructField('TeamOneAbbreviation', StringType(), True),\n",
    "        StructField('TeamOneFinalScore', IntegerType(), True),\n",
    "        StructField('TeamOneCTScore', IntegerType(), True),\n",
    "        StructField('TeamOneTScore', IntegerType(), True),\n",
    "        StructField('TeamOneOTScore', IntegerType(), True),\n",
    "        StructField('TeamTwoFinalScore', IntegerType(), True),\n",
    "        StructField('TeamTwoCTScore', IntegerType(), True),\n",
    "        StructField('TeamTwoTScore', IntegerType(), True),\n",
    "        StructField('TeamTwoOTScore', IntegerType(), True),\n",
    "    ])\n",
    "\n",
    "    return spark.createDataFrame(team_match_scored_df_pd, schema=schema),  team_match_scored_df_pd\n",
    "\n",
    "team_match_agg_df_sprk, team_match_agg_df_pd = get_agg_team_data(match_name, map_list)\n",
    "\n",
    "team_match_agg_df_sprk.show()\n"
   ]
  },
  {
   "cell_type": "markdown",
   "metadata": {},
   "source": [
    "### Player Data"
   ]
  },
  {
   "cell_type": "code",
   "execution_count": 191,
   "metadata": {},
   "outputs": [
    {
     "name": "stdout",
     "output_type": "stream",
     "text": [
      "+----------+-----------+------+------+-------------+-------+--------+--------------+--------+---------+---------------+---------+----------+------------+------+-------+-----------+------+------+--------------------+--------------+---------------+------------------+------------+-------------+-------------------+-------------+--------------+\n",
      "|PlayerName|ACS_Overall| ACS_T|ACS_CT|Kills_Overall|Kills_T|Kills_CT|Deaths_Overall|Deaths_T|Deaths_CT|Assists_Overall|Assists_T|Assists_CT|KAST_Overall|KAST_T|KAST_CT|ADR_Overall| ADR_T|ADR_CT|HSPercentage_Overall|HSPercentage_T|HSPercentage_CT|FirstKills_Overall|FirstKills_T|FirstKills_CT|FirstDeaths_Overall|FirstDeaths_T|FirstDeaths_CT|\n",
      "+----------+-----------+------+------+-------------+-------+--------+--------------+--------+---------+---------------+---------+----------+------------+------+-------+-----------+------+------+--------------------+--------------+---------------+------------------+------------+-------------+-------------------+-------------+--------------+\n",
      "|     Keiko|     212.33| 335.0|167.33|           54|     28|      26|             9|      20|       20|             27|       12|        15|        78.0| 87.33|  72.67|     140.67| 213.0| 109.0|               37.67|         41.33|           39.0|                 7|           5|            2|                  6|            2|             4|\n",
      "|   N4RRATE|      230.0|220.33|294.33|           55|     25|      30|             4|      28|       21|             21|        9|        12|       74.67| 70.67|   90.0|     150.67|148.67|174.67|               25.67|          25.0|          28.33|                 9|           2|            7|                  3|            2|             1|\n",
      "|   Zellsis|     174.67|164.67|153.67|           34|     15|      19|             4|      32|       20|             29|       22|         7|        74.0| 76.67|   79.0|      114.0| 107.0|  97.0|               24.67|          22.0|           36.0|                 4|           3|            1|                  5|            3|             2|\n",
      "|      bang|     186.33|188.33| 154.0|           38|     22|      16|             4|      24|       21|             20|       11|         9|       70.33| 75.67|  63.33|     114.67| 110.0| 94.67|               29.67|          34.0|          51.67|                 7|           4|            3|                  6|            2|             4|\n",
      "|    johnqt|      160.0|159.33| 149.0|           37|     22|      15|             4|      26|       19|             18|        6|        12|       69.67|  80.0|   69.0|      101.0| 99.33|105.67|               20.67|          25.0|           13.0|                 1|           0|            1|                  1|            0|             1|\n",
      "|      kamo|     190.33|149.67| 206.0|           41|     13|      28|             9|      23|       23|             12|        6|         6|        68.0| 74.33|  66.67|     126.67|111.67|132.33|               25.67|         28.33|          29.33|                11|           4|            7|                 14|           10|             4|\n",
      "|     kamyk|      177.0| 144.0|186.67|           39|     15|      24|            12|      21|       23|             13|       10|         3|       74.33| 76.67|  72.33|      112.0| 82.33|116.33|               30.67|         48.67|          43.67|                 4|           1|            3|                  2|            0|             2|\n",
      "|      nAts|     305.33| 211.0| 359.0|           66|     20|      46|            10|      20|       20|             13|        6|         7|        80.0| 76.67|  82.67|     197.33|157.67|231.33|               27.67|          45.0|          23.67|                 6|           0|            6|                  6|            4|             2|\n",
      "|   paTiTek|     151.67| 197.0| 131.0|           32|     18|      14|            11|      21|       22|             36|       17|        19|       82.67| 89.33|  76.33|      97.33| 125.0| 85.33|               24.33|          29.0|           19.0|                 4|           3|            1|                  4|            0|             4|\n",
      "|    zekken|     210.33|230.33|160.67|           49|     25|      24|             4|      28|       16|              8|        3|         5|        65.0|  64.0|   81.0|     140.67|153.67|104.33|                31.0|          33.0|          21.67|                11|           7|            4|                 17|           12|             5|\n",
      "+----------+-----------+------+------+-------------+-------+--------+--------------+--------+---------+---------------+---------+----------+------------+------+-------+-----------+------+------+--------------------+--------------+---------------+------------------+------------+-------------+-------------------+-------------+--------------+\n",
      "\n"
     ]
    }
   ],
   "source": [
    "# Function to get aggregate player data for the entire match over all maps\n",
    "def get_agg_player_data(map_list):\n",
    "    map_player_stats_df__spark, map_player_stats_df_pd = get_map_player_data(map_list)\n",
    "\n",
    "    map_player_stats_df_pd_trim = map_player_stats_df_pd.copy()\n",
    "\n",
    "    map_player_stats_df_pd_trim['KAST_Overall'] = map_player_stats_df_pd_trim['KAST_Overall'].str.replace('%', '').astype(float)\n",
    "    map_player_stats_df_pd_trim['KAST_CT'] = map_player_stats_df_pd_trim['KAST_CT'].str.replace('%', '').astype(float)\n",
    "    map_player_stats_df_pd_trim['KAST_T'] = map_player_stats_df_pd_trim['KAST_T'].str.replace('%', '').astype(float)\n",
    "    map_player_stats_df_pd_trim['HSPercentage_Overall'] = map_player_stats_df_pd_trim['HSPercentage_Overall'].str.replace('%', '').astype(float)\n",
    "    map_player_stats_df_pd_trim['HSPercentage_CT'] = map_player_stats_df_pd_trim['HSPercentage_CT'].str.replace('%', '').astype(float)\n",
    "    map_player_stats_df_pd_trim['HSPercentage_T'] = map_player_stats_df_pd_trim['HSPercentage_T'].str.replace('%', '').astype(float)\n",
    "\n",
    "    map_player_stats_df_pd_trim = map_player_stats_df_pd_trim.astype({'ACS_Overall': 'int', 'ACS_T': 'int', 'ACS_CT':  'int', 'Kills_Overall' : 'int', 'Kills_T': 'int', 'Kills_CT': 'int', 'Deaths_Overall' : 'int', 'Deaths_T': 'int', 'Deaths_CT': 'int', 'Assists_Overall' : 'int', 'Assists_T': 'int', 'Assists_CT': 'int', 'KAST_Overall' : 'float', 'KAST_T':  'float', 'KAST_CT':  'float', 'ADR_Overall' :  'int', 'ADR_T':  'int', 'ADR_CT':  'int', 'HSPercentage_Overall' :  'float', 'HSPercentage_T':  'float', 'HSPercentage_CT':  'float', 'FirstKills_Overall' : 'int', 'FirstKills_T': 'int', 'FirstKills_CT': 'int', 'FirstDeaths_Overall' : 'int', 'FirstDeaths_T': 'int', 'FirstDeaths_CT': 'int'})\n",
    "\n",
    "    agg_player_stats_df_pd = map_player_stats_df_pd_trim.groupby('PlayerName').agg({'ACS_Overall': 'mean', 'ACS_T': 'mean', 'ACS_CT':  'mean', 'Kills_Overall' : 'sum', 'Kills_T': 'sum', 'Kills_CT': 'sum', 'Deaths_Overall' : 'sum', 'Deaths_T': 'sum', 'Deaths_CT': 'sum', 'Assists_Overall' : 'sum', 'Assists_T': 'sum', 'Assists_CT': 'sum', 'KAST_Overall' : 'mean', 'KAST_T':  'mean', 'KAST_CT':  'mean', 'ADR_Overall' :  'mean', 'ADR_T':  'mean', 'ADR_CT':  'mean', 'HSPercentage_Overall' :  'mean', 'HSPercentage_T':  'mean', 'HSPercentage_CT':  'mean', 'FirstKills_Overall' : 'sum', 'FirstKills_T': 'sum', 'FirstKills_CT': 'sum', 'FirstDeaths_Overall' : 'sum', 'FirstDeaths_T': 'sum', 'FirstDeaths_CT': 'sum'}).round(2)\n",
    "\n",
    "    agg_player_stats_df_pd.reset_index(inplace=True)\n",
    "\n",
    "    return spark.createDataFrame(agg_player_stats_df_pd), agg_player_stats_df_pd\n",
    "\n",
    "agg_player_stats_df_spark, agg_player_stats_df_pd = get_agg_player_data(map_list)\n",
    "\n",
    "agg_player_stats_df_spark.show()"
   ]
  },
  {
   "cell_type": "markdown",
   "metadata": {},
   "source": [
    "### Get Team Info Data"
   ]
  },
  {
   "cell_type": "code",
   "execution_count": 192,
   "metadata": {},
   "outputs": [
    {
     "name": "stdout",
     "output_type": "stream",
     "text": [
      "+-----------+----------------+\n",
      "|   TeamName|TeamAbbreviation|\n",
      "+-----------+----------------+\n",
      "|Team Liquid|              TL|\n",
      "|  Sentinels|             SEN|\n",
      "+-----------+----------------+\n",
      "\n"
     ]
    }
   ],
   "source": [
    "#Function to get team info data\n",
    "\n",
    "def get_team_info(match_name, map_list):\n",
    "    team_match_agg_df_sprk, team_match_agg_df_pd = get_agg_team_data(match_name, map_list)\n",
    "\n",
    "    team_match_agg_df_pd_sub = team_match_agg_df_pd[['TeamOneName', 'TeamOneAbbreviation', 'TeamTwoName', 'TeamTwoAbbreviation']]\n",
    "\n",
    "    team_info_dict = {\n",
    "        'TeamName' : [team_match_agg_df_pd_sub.at[0,'TeamOneName'], team_match_agg_df_pd_sub.at[0,'TeamTwoName']],\n",
    "        'TeamAbbreviation' : [team_match_agg_df_pd_sub.at[0,'TeamOneAbbreviation'], team_match_agg_df_pd_sub.at[0,'TeamTwoAbbreviation']]\n",
    "    }\n",
    "\n",
    "    team_info_df = pd.DataFrame(team_info_dict)\n",
    "\n",
    "\n",
    "\n",
    "    return spark.createDataFrame(team_info_df), team_info_df\n",
    "\n",
    "team_info_df_spark, team_info_df_pd = get_team_info(match_name, map_list)\n",
    "team_info_df_spark.show()"
   ]
  },
  {
   "cell_type": "markdown",
   "metadata": {},
   "source": [
    "### Get Player Info Data"
   ]
  },
  {
   "cell_type": "code",
   "execution_count": 193,
   "metadata": {},
   "outputs": [
    {
     "name": "stdout",
     "output_type": "stream",
     "text": [
      "+----------+\n",
      "|PlayerName|\n",
      "+----------+\n",
      "|      nAts|\n",
      "|     Keiko|\n",
      "|   paTiTek|\n",
      "|     kamyk|\n",
      "|      kamo|\n",
      "|      bang|\n",
      "|    zekken|\n",
      "|   N4RRATE|\n",
      "|    johnqt|\n",
      "|   Zellsis|\n",
      "+----------+\n",
      "\n"
     ]
    }
   ],
   "source": [
    "# Function to get player info data\n",
    "def get_player_info(map_list):\n",
    "    map_player_stats_df__spark, map_player_stats_df_pd = get_map_player_data(map_list)\n",
    "\n",
    "    player_name_list = map_player_stats_df_pd['PlayerName'].unique()\n",
    "\n",
    "    player_info_df = pd.DataFrame({'PlayerName' : player_name_list})\n",
    "\n",
    "    return spark.createDataFrame(player_info_df), player_info_df\n",
    "\n",
    "player_info_df_spark, player_info_df_pd = get_player_info(map_list)\n",
    "player_info_df_spark.show()"
   ]
  },
  {
   "cell_type": "markdown",
   "metadata": {},
   "source": [
    "### Get Map Info Data"
   ]
  },
  {
   "cell_type": "code",
   "execution_count": 194,
   "metadata": {},
   "outputs": [
    {
     "name": "stdout",
     "output_type": "stream",
     "text": [
      "+-------+\n",
      "|MapName|\n",
      "+-------+\n",
      "|  Lotus|\n",
      "|  Abyss|\n",
      "|   Bind|\n",
      "+-------+\n",
      "\n"
     ]
    }
   ],
   "source": [
    "# Function to get map info data\n",
    "def get_map_info(map_list):\n",
    "\n",
    "    map_df = pd.DataFrame({'MapName' : map_list})\n",
    "\n",
    "    return spark.createDataFrame(map_df), map_df\n",
    "\n",
    "map_df_spark, map_df_pd = get_map_info(map_list)\n",
    "map_df_spark.show()"
   ]
  },
  {
   "cell_type": "code",
   "execution_count": null,
   "metadata": {},
   "outputs": [],
   "source": []
  }
 ],
 "metadata": {
  "kernelspec": {
   "display_name": ".venv",
   "language": "python",
   "name": "python3"
  },
  "language_info": {
   "codemirror_mode": {
    "name": "ipython",
    "version": 3
   },
   "file_extension": ".py",
   "mimetype": "text/x-python",
   "name": "python",
   "nbconvert_exporter": "python",
   "pygments_lexer": "ipython3",
   "version": "3.9.6"
  }
 },
 "nbformat": 4,
 "nbformat_minor": 2
}
